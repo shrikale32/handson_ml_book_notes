{
 "cells": [
  {
   "cell_type": "markdown",
   "metadata": {},
   "source": [
    "### Chapter 8 - Dimensionality Reduction"
   ]
  },
  {
   "cell_type": "markdown",
   "metadata": {},
   "source": [
    "#### Building a simple 3D dataset:"
   ]
  },
  {
   "cell_type": "code",
   "execution_count": 37,
   "metadata": {},
   "outputs": [
    {
     "data": {
      "text/plain": [
       "(60, 3)"
      ]
     },
     "execution_count": 37,
     "metadata": {},
     "output_type": "execute_result"
    }
   ],
   "source": [
    "import numpy as np\n",
    "\n",
    "#setting seed\n",
    "np.random.seed(42)\n",
    "\n",
    "#initializing variables\n",
    "m= 60\n",
    "w1, w2 = 0.1, 0.3\n",
    "noise = 0.1\n",
    "\n",
    "angles = np.random.rand(m) * 3 * np.pi / 2 - 0.5\n",
    "X = np.empty((m, 3))\n",
    "\n",
    "X[:, 0] = np.cos(angles) + np.sin(angles)/2 + noise * np.random.randn(m) / 2\n",
    "X[:, 1] = np.sin(angles) * 0.7 + noise * np.random.randn(m) / 2\n",
    "X[:, 2] = X[:, 0] * w1 + X[:, 1] * w2 + noise * np.random.randn(m)\n",
    "\n",
    "X.shape\n"
   ]
  },
  {
   "cell_type": "markdown",
   "metadata": {},
   "source": [
    "#### Principal Components"
   ]
  },
  {
   "cell_type": "code",
   "execution_count": 38,
   "metadata": {},
   "outputs": [
    {
     "name": "stdout",
     "output_type": "stream",
     "text": [
      "VT:  [[-0.95250178 -0.24902446 -0.17529172]\n",
      " [ 0.29267159 -0.9076305  -0.30091563]\n",
      " [ 0.08416476  0.33792558 -0.93740205]]\n",
      "PC1:  [-0.95250178 -0.24902446 -0.17529172]\n",
      "PC2:  [ 0.29267159 -0.9076305  -0.30091563]\n"
     ]
    }
   ],
   "source": [
    "#finding X relative to center as required by PCA\n",
    "X_centered = X - X.mean(axis=0)\n",
    "U, s, Vt = np.linalg.svd(X_centered)\n",
    "\n",
    "print(\"VT: \",Vt) # we get 3 pc for the 3 dimesnional feature space\n",
    "\n",
    "#first two principal components obtained with transpose\n",
    "c1 = Vt.T[:, 0]\n",
    "c2 = Vt.T[:, 1]\n",
    "\n",
    "print(\"PC1: \", c1)\n",
    "print(\"PC2: \", c2)\n"
   ]
  },
  {
   "cell_type": "code",
   "execution_count": 39,
   "metadata": {},
   "outputs": [
    {
     "data": {
      "text/plain": [
       "array([[7.05108078, 0.        , 0.        ],\n",
       "       [0.        , 2.81608982, 0.        ],\n",
       "       [0.        , 0.        , 0.7518544 ],\n",
       "       [0.        , 0.        , 0.        ],\n",
       "       [0.        , 0.        , 0.        ],\n",
       "       [0.        , 0.        , 0.        ],\n",
       "       [0.        , 0.        , 0.        ],\n",
       "       [0.        , 0.        , 0.        ],\n",
       "       [0.        , 0.        , 0.        ],\n",
       "       [0.        , 0.        , 0.        ],\n",
       "       [0.        , 0.        , 0.        ],\n",
       "       [0.        , 0.        , 0.        ],\n",
       "       [0.        , 0.        , 0.        ],\n",
       "       [0.        , 0.        , 0.        ],\n",
       "       [0.        , 0.        , 0.        ],\n",
       "       [0.        , 0.        , 0.        ],\n",
       "       [0.        , 0.        , 0.        ],\n",
       "       [0.        , 0.        , 0.        ],\n",
       "       [0.        , 0.        , 0.        ],\n",
       "       [0.        , 0.        , 0.        ],\n",
       "       [0.        , 0.        , 0.        ],\n",
       "       [0.        , 0.        , 0.        ],\n",
       "       [0.        , 0.        , 0.        ],\n",
       "       [0.        , 0.        , 0.        ],\n",
       "       [0.        , 0.        , 0.        ],\n",
       "       [0.        , 0.        , 0.        ],\n",
       "       [0.        , 0.        , 0.        ],\n",
       "       [0.        , 0.        , 0.        ],\n",
       "       [0.        , 0.        , 0.        ],\n",
       "       [0.        , 0.        , 0.        ],\n",
       "       [0.        , 0.        , 0.        ],\n",
       "       [0.        , 0.        , 0.        ],\n",
       "       [0.        , 0.        , 0.        ],\n",
       "       [0.        , 0.        , 0.        ],\n",
       "       [0.        , 0.        , 0.        ],\n",
       "       [0.        , 0.        , 0.        ],\n",
       "       [0.        , 0.        , 0.        ],\n",
       "       [0.        , 0.        , 0.        ],\n",
       "       [0.        , 0.        , 0.        ],\n",
       "       [0.        , 0.        , 0.        ],\n",
       "       [0.        , 0.        , 0.        ],\n",
       "       [0.        , 0.        , 0.        ],\n",
       "       [0.        , 0.        , 0.        ],\n",
       "       [0.        , 0.        , 0.        ],\n",
       "       [0.        , 0.        , 0.        ],\n",
       "       [0.        , 0.        , 0.        ],\n",
       "       [0.        , 0.        , 0.        ],\n",
       "       [0.        , 0.        , 0.        ],\n",
       "       [0.        , 0.        , 0.        ],\n",
       "       [0.        , 0.        , 0.        ],\n",
       "       [0.        , 0.        , 0.        ],\n",
       "       [0.        , 0.        , 0.        ],\n",
       "       [0.        , 0.        , 0.        ],\n",
       "       [0.        , 0.        , 0.        ],\n",
       "       [0.        , 0.        , 0.        ],\n",
       "       [0.        , 0.        , 0.        ],\n",
       "       [0.        , 0.        , 0.        ],\n",
       "       [0.        , 0.        , 0.        ],\n",
       "       [0.        , 0.        , 0.        ],\n",
       "       [0.        , 0.        , 0.        ]])"
      ]
     },
     "execution_count": 39,
     "metadata": {},
     "output_type": "execute_result"
    }
   ],
   "source": [
    "m, n = X.shape #m has 60 and n has 3\n",
    "\n",
    "S = np.zeros(X_centered.shape) #A 60 x 3 matrix of zeroes\n",
    "S[:n, :n] = np.diag(s) #filling diagonal elements with values in s\n",
    "S"
   ]
  },
  {
   "cell_type": "code",
   "execution_count": 40,
   "metadata": {},
   "outputs": [
    {
     "data": {
      "text/plain": [
       "True"
      ]
     },
     "execution_count": 40,
     "metadata": {},
     "output_type": "execute_result"
    }
   ],
   "source": [
    "np.allclose(X_centered, U.dot(S).dot(Vt)) #checking if the two matrices are almost similar"
   ]
  },
  {
   "cell_type": "markdown",
   "metadata": {},
   "source": [
    "#### Projecting Down to d Dimensions"
   ]
  },
  {
   "cell_type": "code",
   "execution_count": 41,
   "metadata": {},
   "outputs": [
    {
     "name": "stdout",
     "output_type": "stream",
     "text": [
      "[[-0.95250178  0.29267159]\n",
      " [-0.24902446 -0.9076305 ]\n",
      " [-0.17529172 -0.30091563]]\n"
     ]
    },
    {
     "data": {
      "text/plain": [
       "array([[-0.690074  , -0.36150744],\n",
       "       [ 1.39636097,  0.34497714],\n",
       "       [ 1.00728461, -0.35025708],\n",
       "       [ 0.2736333 , -0.50516373],\n",
       "       [-0.91324535,  0.26290852],\n",
       "       [-0.79710027,  0.26718188],\n",
       "       [-0.55173939,  0.65062721],\n",
       "       [ 1.41612959,  0.16567641],\n",
       "       [ 0.40776059, -0.46053322],\n",
       "       [ 0.85209856, -0.40516935],\n",
       "       [-0.46269946,  0.61952736],\n",
       "       [ 1.2826692 ,  0.41018903],\n",
       "       [ 1.37468032,  0.03618608],\n",
       "       [-0.96941594,  0.10932241],\n",
       "       [-0.97219266,  0.14390464],\n",
       "       [-1.05216924,  0.07740862],\n",
       "       [-0.92770444, -0.22364286],\n",
       "       [-0.01473543, -0.4153169 ],\n",
       "       [-0.47010859, -0.46920058],\n",
       "       [-0.87761843, -0.08515546],\n",
       "       [ 0.38973612, -0.45189716],\n",
       "       [-0.96989867,  0.19819051],\n",
       "       [-0.93689997, -0.09307933],\n",
       "       [-0.81304146, -0.26096051],\n",
       "       [-0.41368569, -0.42009096],\n",
       "       [ 1.2830484 , -0.02603822],\n",
       "       [-0.95210787,  0.23163682],\n",
       "       [-0.2005476 , -0.49130242],\n",
       "       [ 0.33988682, -0.41263482],\n",
       "       [-0.59146086,  0.58475112],\n",
       "       [ 0.54812172, -0.43831338],\n",
       "       [-0.99520427,  0.14358061],\n",
       "       [-0.58645755,  0.57426772],\n",
       "       [ 1.39360363,  0.3895672 ],\n",
       "       [ 1.33617687,  0.38561674],\n",
       "       [ 1.41628081,  0.04632763],\n",
       "       [-0.9264541 , -0.18501519],\n",
       "       [-0.77991339,  0.34821204],\n",
       "       [ 0.74686904, -0.26218164],\n",
       "       [-0.48042341, -0.47513888],\n",
       "       [-0.75151549,  0.37787401],\n",
       "       [-0.18283935, -0.49263035],\n",
       "       [-0.51056407,  0.63475101],\n",
       "       [ 1.39723764,  0.32572316],\n",
       "       [-0.97100408, -0.08408757],\n",
       "       [ 0.60807764, -0.49285352],\n",
       "       [-0.93297154, -0.20657396],\n",
       "       [-0.15026573, -0.52219942],\n",
       "       [ 0.09681863, -0.4867323 ],\n",
       "       [-0.94691677,  0.14421944],\n",
       "       [ 1.36756046,  0.42677217],\n",
       "       [ 1.25473742, -0.12194352],\n",
       "       [ 1.3577182 ,  0.29036654],\n",
       "       [ 1.38554792,  0.21587043],\n",
       "       [ 0.38277905, -0.37983393],\n",
       "       [ 1.39874611,  0.2685979 ],\n",
       "       [-0.65765024,  0.40980972],\n",
       "       [-0.92060108,  0.1583512 ],\n",
       "       [-0.53772935,  0.47010862],\n",
       "       [-0.8066079 , -0.13305015]])"
      ]
     },
     "execution_count": 41,
     "metadata": {},
     "output_type": "execute_result"
    }
   ],
   "source": [
    "W2 = Vt.T[:, :2] #projecting down to 2 dimensions\n",
    "print(W2)\n",
    "X2D = X_centered.dot(W2) #obtain lower dimensional feature space using dot product\n",
    "X2D"
   ]
  },
  {
   "cell_type": "markdown",
   "metadata": {},
   "source": [
    "X2D_using_svd = X2D"
   ]
  },
  {
   "cell_type": "markdown",
   "metadata": {},
   "source": [
    "#### Using Scikit Learn"
   ]
  },
  {
   "cell_type": "code",
   "execution_count": 42,
   "metadata": {},
   "outputs": [
    {
     "data": {
      "text/plain": [
       "array([[-0.690074  , -0.36150744],\n",
       "       [ 1.39636097,  0.34497714],\n",
       "       [ 1.00728461, -0.35025708],\n",
       "       [ 0.2736333 , -0.50516373],\n",
       "       [-0.91324535,  0.26290852]])"
      ]
     },
     "execution_count": 42,
     "metadata": {},
     "output_type": "execute_result"
    }
   ],
   "source": [
    "from sklearn.decomposition import PCA\n",
    "\n",
    "pca = PCA(n_components=2)\n",
    "X2D_scikit = pca.fit_transform(X)\n",
    "\n",
    "#printing X after transformation with 2 dimensions\n",
    "X2D_scikit[:5, :]\n"
   ]
  },
  {
   "cell_type": "markdown",
   "metadata": {},
   "source": [
    "Comparing with principal components computed without scikitlearn"
   ]
  },
  {
   "cell_type": "code",
   "execution_count": 43,
   "metadata": {},
   "outputs": [
    {
     "data": {
      "text/plain": [
       "True"
      ]
     },
     "execution_count": 43,
     "metadata": {},
     "output_type": "execute_result"
    }
   ],
   "source": [
    "X2D[:5, :]\n",
    "\n",
    "np.allclose(X2D_scikit, X2D)"
   ]
  },
  {
   "cell_type": "markdown",
   "metadata": {},
   "source": [
    "We can see that they are equivalent"
   ]
  },
  {
   "cell_type": "markdown",
   "metadata": {},
   "source": [
    "##### Can we recover the 3D points on the plane after transformation? (Scikit Learn)"
   ]
  },
  {
   "cell_type": "code",
   "execution_count": 44,
   "metadata": {},
   "outputs": [
    {
     "data": {
      "text/plain": [
       "False"
      ]
     },
     "execution_count": 44,
     "metadata": {},
     "output_type": "execute_result"
    }
   ],
   "source": [
    "X3D_inv = pca.inverse_transform(X2D_scikit)\n",
    "\n",
    "#Comparing with original\n",
    "\n",
    "np.allclose(X3D_inv, X)"
   ]
  },
  {
   "cell_type": "markdown",
   "metadata": {},
   "source": [
    "We can observe it is isn't all same as some information is lost during the projection step"
   ]
  },
  {
   "cell_type": "markdown",
   "metadata": {},
   "source": [
    "We can calculate this loss using a metric called reconstruction error"
   ]
  },
  {
   "cell_type": "code",
   "execution_count": 45,
   "metadata": {},
   "outputs": [
    {
     "data": {
      "text/plain": [
       "0.009421417196957216"
      ]
     },
     "execution_count": 45,
     "metadata": {},
     "output_type": "execute_result"
    }
   ],
   "source": [
    "np.mean(np.sum(np.square(X3D_inv - X), axis=1)) "
   ]
  },
  {
   "cell_type": "markdown",
   "metadata": {},
   "source": [
    "##### Can we recover the 3D points on the plane after transformation? (SVD Approach)"
   ]
  },
  {
   "cell_type": "code",
   "execution_count": 46,
   "metadata": {},
   "outputs": [],
   "source": [
    "X3D_inv_using_svd = X2D.dot(Vt[:2, :])"
   ]
  },
  {
   "cell_type": "markdown",
   "metadata": {},
   "source": [
    "The reconstrcution error calculated by both the methods is same, with svd we need to reverse the mean centering"
   ]
  },
  {
   "cell_type": "code",
   "execution_count": 47,
   "metadata": {},
   "outputs": [
    {
     "data": {
      "text/plain": [
       "True"
      ]
     },
     "execution_count": 47,
     "metadata": {},
     "output_type": "execute_result"
    }
   ],
   "source": [
    "np.allclose(X3D_inv_using_svd, X3D_inv - pca.mean_)"
   ]
  },
  {
   "cell_type": "markdown",
   "metadata": {},
   "source": [
    "### Explained Variance Ratio"
   ]
  },
  {
   "cell_type": "markdown",
   "metadata": {},
   "source": [
    "#### Using Scikit Learn"
   ]
  },
  {
   "cell_type": "code",
   "execution_count": 48,
   "metadata": {},
   "outputs": [
    {
     "data": {
      "text/plain": [
       "array([0.85406025, 0.13622918])"
      ]
     },
     "execution_count": 48,
     "metadata": {},
     "output_type": "execute_result"
    }
   ],
   "source": [
    "pca.explained_variance_ratio_"
   ]
  },
  {
   "cell_type": "markdown",
   "metadata": {},
   "source": [
    "This shows that the first principal component explains 85.4% of variance and second pc explains 13.6% of variance"
   ]
  },
  {
   "cell_type": "code",
   "execution_count": 51,
   "metadata": {},
   "outputs": [
    {
     "data": {
      "text/plain": [
       "0.009710567616013521"
      ]
     },
     "execution_count": 51,
     "metadata": {},
     "output_type": "execute_result"
    }
   ],
   "source": [
    "1 - pca.explained_variance_ratio_.sum()"
   ]
  },
  {
   "cell_type": "markdown",
   "metadata": {},
   "source": [
    "This shows we lost 0.97% of variance by project down to 2D from 3D"
   ]
  },
  {
   "cell_type": "markdown",
   "metadata": {},
   "source": [
    "### Using SVD "
   ]
  },
  {
   "cell_type": "code",
   "execution_count": 52,
   "metadata": {},
   "outputs": [
    {
     "data": {
      "text/plain": [
       "array([0.85406025, 0.13622918, 0.00971057])"
      ]
     },
     "execution_count": 52,
     "metadata": {},
     "output_type": "execute_result"
    }
   ],
   "source": [
    "np.square(s) / np.square(s).sum()"
   ]
  },
  {
   "cell_type": "markdown",
   "metadata": {},
   "source": [
    "### Choosing the Right Number of Dimensions"
   ]
  },
  {
   "cell_type": "code",
   "execution_count": 55,
   "metadata": {},
   "outputs": [],
   "source": [
    "#using MNIST dataset for this example\n",
    "\n",
    "from sklearn.datasets import fetch_openml\n",
    "\n",
    "mnist = fetch_openml('mnist_784', version=1, as_frame=False) #as_frame is set to False to avoid getting dataset as a dataframe\n",
    "mnist.target = mnist.target.astype(np.uint8)\n",
    "\n"
   ]
  },
  {
   "cell_type": "code",
   "execution_count": 56,
   "metadata": {},
   "outputs": [],
   "source": [
    "#train test split\n",
    "\n",
    "from sklearn.model_selection import train_test_split\n",
    "\n",
    "X = mnist[\"data\"]\n",
    "y = mnist[\"target\"]\n",
    "\n",
    "X_train, X_test, y_train, y_test = train_test_split(X, y)"
   ]
  },
  {
   "cell_type": "code",
   "execution_count": 59,
   "metadata": {},
   "outputs": [
    {
     "data": {
      "text/plain": [
       "154"
      ]
     },
     "execution_count": 59,
     "metadata": {},
     "output_type": "execute_result"
    }
   ],
   "source": [
    "pca = PCA()\n",
    "pca.fit(X_train)\n",
    "cumsum = np.cumsum(pca.explained_variance_ratio_)\n",
    "d = np.argmax(cumsum >= 0.95) + 1 #np.argax return index\n",
    "d"
   ]
  },
  {
   "cell_type": "markdown",
   "metadata": {},
   "source": [
    "Visualize the variance, and dimensions"
   ]
  },
  {
   "cell_type": "code",
   "execution_count": 64,
   "metadata": {},
   "outputs": [
    {
     "data": {
      "image/png": "[encoded data removed]",
      "text/plain": [
       "<Figure size 432x288 with 1 Axes>"
      ]
     },
     "metadata": {
      "needs_background": "light"
     },
     "output_type": "display_data"
    }
   ],
   "source": [
    "import matplotlib.pyplot as plt\n",
    "plt.figure(figsize=(6,4))\n",
    "plt.plot(cumsum, linewidth=3) #plotting cumsum which is the sum of pcas till that point\n",
    "plt.axis([0, 400, 0, 1]) #axis\n",
    "plt.plot([d, d], [0, 0.95], \"k:\") #draw the vertical line till where the explained variance is 0.95\n",
    "plt.plot([0, d], [0.95, 0.95], \"k:\") #draw the horizontal line intersecting with variance at 0.95\n",
    "plt.plot(d, 0.95, \"ko\") #draw the dot at the interesection\n",
    "plt.annotate(\"Elbow\", xy=(65, 0.85), xytext=(70, 0.7),\n",
    "             arrowprops=dict(arrowstyle=\"->\"), fontsize=16) #plot the arrow\n",
    "plt.xlabel(\"Dimensions\")\n",
    "plt.ylabel(\"Explained Variance\")\n",
    "plt.grid(True)\n",
    "plt.show()"
   ]
  },
  {
   "cell_type": "code",
   "execution_count": 65,
   "metadata": {},
   "outputs": [],
   "source": [
    "#another way to define is by how much explained variance we should get\n",
    "pca = PCA(n_components=0.95)\n",
    "X_reduced = pca.fit_transform(X_train)"
   ]
  },
  {
   "cell_type": "code",
   "execution_count": 66,
   "metadata": {},
   "outputs": [
    {
     "data": {
      "text/plain": [
       "154"
      ]
     },
     "execution_count": 66,
     "metadata": {},
     "output_type": "execute_result"
    }
   ],
   "source": [
    "pca.n_components_"
   ]
  },
  {
   "cell_type": "code",
   "execution_count": 67,
   "metadata": {},
   "outputs": [
    {
     "data": {
      "text/plain": [
       "0.95045067316349"
      ]
     },
     "execution_count": 67,
     "metadata": {},
     "output_type": "execute_result"
    }
   ],
   "source": [
    "np.sum(pca.explained_variance_ratio_)"
   ]
  },
  {
   "cell_type": "markdown",
   "metadata": {},
   "source": [
    "As we can see the explained variance is 0.95"
   ]
  },
  {
   "cell_type": "markdown",
   "metadata": {},
   "source": [
    "Randomized PCa, Incremental PCA, Kernale PCA, Hyperparameter Tuning, LLE, Other techniques, Exercises and Visualization (Optional - Remaining"
   ]
  }
 ],
 "metadata": {
  "kernelspec": {
   "display_name": "Python 3.10.1 64-bit",
   "language": "python",
   "name": "python3"
  },
  "language_info": {
   "codemirror_mode": {
    "name": "ipython",
    "version": 3
   },
   "file_extension": ".py",
   "mimetype": "text/x-python",
   "name": "python",
   "nbconvert_exporter": "python",
   "pygments_lexer": "ipython3",
   "version": "3.10.1"
  },
  "orig_nbformat": 4,
  "vscode": {
   "interpreter": {
    "hash": "aee8b7b246df8f9039afb4144a1f6fd8d2ca17a180786b69acc140d282b71a49"
   }
  }
 },
 "nbformat": 4,
 "nbformat_minor": 2
}
